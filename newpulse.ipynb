{
 "cells": [
  {
   "cell_type": "code",
   "execution_count": 1,
   "metadata": {},
   "outputs": [],
   "source": [
    "import numpy as np\n",
    "import pandas as pd\n",
    "import boto3\n",
    "import s3fs\n",
    "from datetime import timedelta,datetime,date\n",
    "import os \n",
    "import matplotlib.pyplot as plt\n",
    "%matplotlib inline\n",
    "import sqlite3\n",
    "import psycopg2\n",
    "\n",
    "from IPython.core.interactiveshell import InteractiveShell\n",
    "InteractiveShell.ast_node_interactivity = \"all\""
   ]
  },
  {
   "cell_type": "code",
   "execution_count": 2,
   "metadata": {},
   "outputs": [],
   "source": [
    "connection = psycopg2.connect(host=\"88.198.110.221\", port = 54321, database=\"gamooga\", \n",
    "                              user=\"caratlane9238\", password=\"W5eB1bustiYo\")"
   ]
  },
  {
   "cell_type": "code",
   "execution_count": 3,
   "metadata": {},
   "outputs": [
    {
     "name": "stderr",
     "output_type": "stream",
     "text": [
      "C:\\Users\\CL2756\\AppData\\Local\\Temp\\ipykernel_5680\\2917686163.py:1: UserWarning: pandas only supports SQLAlchemy connectable (engine/connection) or database string URI or sqlite3 DBAPI2 connection. Other DBAPI2 objects are not tested. Please consider using SQLAlchemy.\n",
      "  k = pd.read_sql(\"\"\"\n"
     ]
    }
   ],
   "source": [
    "k = pd.read_sql(\"\"\"\n",
    "\n",
    "select date(dt) as dt, vis, shortlisting_score,shortlisting_intent, gifting_score,gifting_intent,  trial_score,trial_intent,\n",
    "delivery_score, delivery_intent campaign_score,campaign_intent, call_score, call_intent,\n",
    "lead_score,lead_intent, buying_score,buying_intent, repeatvisit_score,repeatvisit_intent, repeatsku_score,repeatsku_intent, intent,score\n",
    "from gmg_92ca38ca.ds_data_11097 limit 10000\n",
    "\n",
    "\"\"\",con = connection)"
   ]
  },
  {
   "cell_type": "code",
   "execution_count": 4,
   "metadata": {},
   "outputs": [],
   "source": [
    "k.to_csv('junedata.csv',index = False)"
   ]
  },
  {
   "cell_type": "code",
   "execution_count": null,
   "metadata": {},
   "outputs": [],
   "source": []
  }
 ],
 "metadata": {
  "kernelspec": {
   "display_name": "Python 3",
   "language": "python",
   "name": "python3"
  },
  "language_info": {
   "codemirror_mode": {
    "name": "ipython",
    "version": 3
   },
   "file_extension": ".py",
   "mimetype": "text/x-python",
   "name": "python",
   "nbconvert_exporter": "python",
   "pygments_lexer": "ipython3",
   "version": "3.11.3"
  }
 },
 "nbformat": 4,
 "nbformat_minor": 2
}
