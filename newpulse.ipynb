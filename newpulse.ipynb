{
 "cells": [
  {
   "cell_type": "code",
   "execution_count": 2,
   "metadata": {},
   "outputs": [],
   "source": [
    "import numpy as np\n",
    "import pandas as pd\n",
    "import boto3\n",
    "import s3fs\n",
    "from datetime import timedelta,datetime,date\n",
    "import os \n",
    "import matplotlib.pyplot as plt\n",
    "%matplotlib inline\n",
    "import sqlite3\n",
    "import psycopg2\n",
    "\n",
    "from IPython.core.interactiveshell import InteractiveShell\n",
    "InteractiveShell.ast_node_interactivity = \"all\""
   ]
  },
  {
   "cell_type": "code",
   "execution_count": 3,
   "metadata": {},
   "outputs": [],
   "source": [
    "connection = psycopg2.connect(host=\"88.198.110.221\", port = 54321, database=\"gamooga\", \n",
    "                              user=\"caratlane9238\", password=\"W5eB1bustiYo\")"
   ]
  },
  {
   "cell_type": "code",
   "execution_count": 9,
   "metadata": {},
   "outputs": [
    {
     "data": {
      "text/html": [
       "<div>\n",
       "<style scoped>\n",
       "    .dataframe tbody tr th:only-of-type {\n",
       "        vertical-align: middle;\n",
       "    }\n",
       "\n",
       "    .dataframe tbody tr th {\n",
       "        vertical-align: top;\n",
       "    }\n",
       "\n",
       "    .dataframe thead th {\n",
       "        text-align: right;\n",
       "    }\n",
       "</style>\n",
       "<table border=\"1\" class=\"dataframe\">\n",
       "  <thead>\n",
       "    <tr style=\"text-align: right;\">\n",
       "      <th></th>\n",
       "      <th>email</th>\n",
       "      <th>mobile</th>\n",
       "      <th>pincode</th>\n",
       "      <th>city</th>\n",
       "      <th>tag</th>\n",
       "      <th>comments</th>\n",
       "      <th>intent</th>\n",
       "      <th>who</th>\n",
       "      <th>Date</th>\n",
       "    </tr>\n",
       "  </thead>\n",
       "  <tbody>\n",
       "    <tr>\n",
       "      <th>0</th>\n",
       "      <td>preeti.thakur@yahoo.co.in</td>\n",
       "      <td>8860134035</td>\n",
       "      <td>122001</td>\n",
       "      <td>Delhi NCR</td>\n",
       "      <td>1.Occasion</td>\n",
       "      <td>Birthday x Earrings</td>\n",
       "      <td>2.medium</td>\n",
       "      <td>Existing</td>\n",
       "      <td>2024-07-01</td>\n",
       "    </tr>\n",
       "    <tr>\n",
       "      <th>1</th>\n",
       "      <td>chirp1997@gmail.com</td>\n",
       "      <td>9790796156</td>\n",
       "      <td>600094</td>\n",
       "      <td>Chennai</td>\n",
       "      <td>1.Occasion</td>\n",
       "      <td>Spouse Birthday x Rings</td>\n",
       "      <td>2.medium</td>\n",
       "      <td>Existing</td>\n",
       "      <td>2024-07-01</td>\n",
       "    </tr>\n",
       "    <tr>\n",
       "      <th>2</th>\n",
       "      <td>divyaverma.aol@gmail.com</td>\n",
       "      <td>9873878277</td>\n",
       "      <td>122001</td>\n",
       "      <td>Delhi NCR</td>\n",
       "      <td>1.Occasion</td>\n",
       "      <td>Spouse Birthday x Earrings</td>\n",
       "      <td>2.medium</td>\n",
       "      <td>Existing</td>\n",
       "      <td>2024-07-01</td>\n",
       "    </tr>\n",
       "    <tr>\n",
       "      <th>3</th>\n",
       "      <td>ruma.roysarkar76@gmail.com</td>\n",
       "      <td>9903935290</td>\n",
       "      <td>700060</td>\n",
       "      <td>Kolkata</td>\n",
       "      <td>3.Order60</td>\n",
       "      <td>Earrings</td>\n",
       "      <td>3.low</td>\n",
       "      <td>Existing</td>\n",
       "      <td>2024-07-01</td>\n",
       "    </tr>\n",
       "    <tr>\n",
       "      <th>4</th>\n",
       "      <td>kanchan.chak@gmail.com</td>\n",
       "      <td>9560152149</td>\n",
       "      <td>500032</td>\n",
       "      <td>Hyderabad</td>\n",
       "      <td>1.Occasion</td>\n",
       "      <td>Birthday x Chains</td>\n",
       "      <td>2.medium</td>\n",
       "      <td>Existing</td>\n",
       "      <td>2024-07-01</td>\n",
       "    </tr>\n",
       "  </tbody>\n",
       "</table>\n",
       "</div>"
      ],
      "text/plain": [
       "                        email      mobile pincode       city         tag  \\\n",
       "0   preeti.thakur@yahoo.co.in  8860134035  122001  Delhi NCR  1.Occasion   \n",
       "1         chirp1997@gmail.com  9790796156  600094    Chennai  1.Occasion   \n",
       "2    divyaverma.aol@gmail.com  9873878277  122001  Delhi NCR  1.Occasion   \n",
       "3  ruma.roysarkar76@gmail.com  9903935290  700060    Kolkata   3.Order60   \n",
       "4      kanchan.chak@gmail.com  9560152149  500032  Hyderabad  1.Occasion   \n",
       "\n",
       "                     comments    intent       who       Date  \n",
       "0         Birthday x Earrings  2.medium  Existing 2024-07-01  \n",
       "1     Spouse Birthday x Rings  2.medium  Existing 2024-07-01  \n",
       "2  Spouse Birthday x Earrings  2.medium  Existing 2024-07-01  \n",
       "3                    Earrings     3.low  Existing 2024-07-01  \n",
       "4           Birthday x Chains  2.medium  Existing 2024-07-01  "
      ]
     },
     "execution_count": 9,
     "metadata": {},
     "output_type": "execute_result"
    }
   ],
   "source": [
    "julrep = pd.read_csv('prosjulyrepeat2024.csv',parse_dates=['Date'],low_memory = False)\n",
    "julnew = pd.read_csv('prosjulynew2024.csv',parse_dates=['Date'],low_memory = False)\n",
    "jul = pd.concat([julrep,julnew],ignore_index=True)\n",
    "jul.head()"
   ]
  },
  {
   "cell_type": "code",
   "execution_count": 12,
   "metadata": {},
   "outputs": [
    {
     "data": {
      "text/plain": [
       "(8430942, 3)"
      ]
     },
     "execution_count": 12,
     "metadata": {},
     "output_type": "execute_result"
    }
   ],
   "source": [
    "jul = jul[['email','mobile','who']]\n",
    "jul.shape"
   ]
  },
  {
   "cell_type": "code",
   "execution_count": 13,
   "metadata": {},
   "outputs": [],
   "source": [
    "jul.to_csv('jul.csv',index=False)"
   ]
  },
  {
   "cell_type": "code",
   "execution_count": 3,
   "metadata": {},
   "outputs": [
    {
     "name": "stderr",
     "output_type": "stream",
     "text": [
      "C:\\Users\\CL2756\\AppData\\Local\\Temp\\ipykernel_5680\\2917686163.py:1: UserWarning: pandas only supports SQLAlchemy connectable (engine/connection) or database string URI or sqlite3 DBAPI2 connection. Other DBAPI2 objects are not tested. Please consider using SQLAlchemy.\n",
      "  k = pd.read_sql(\"\"\"\n"
     ]
    }
   ],
   "source": [
    "k = pd.read_sql(\"\"\"\n",
    "\n",
    "select date(dt) as dt, vis, shortlisting_score,shortlisting_intent, gifting_score,gifting_intent,  trial_score,trial_intent,\n",
    "delivery_score, delivery_intent campaign_score,campaign_intent, call_score, call_intent,\n",
    "lead_score,lead_intent, buying_score,buying_intent, repeatvisit_score,repeatvisit_intent, repeatsku_score,repeatsku_intent, intent,score\n",
    "from gmg_92ca38ca.ds_data_11097 limit 10000\n",
    "\n",
    "\"\"\",con = connection)"
   ]
  },
  {
   "cell_type": "code",
   "execution_count": 4,
   "metadata": {},
   "outputs": [],
   "source": [
    "k.to_csv('junedata.csv',index = False)"
   ]
  },
  {
   "cell_type": "code",
   "execution_count": null,
   "metadata": {},
   "outputs": [],
   "source": []
  }
 ],
 "metadata": {
  "kernelspec": {
   "display_name": "Python 3",
   "language": "python",
   "name": "python3"
  },
  "language_info": {
   "codemirror_mode": {
    "name": "ipython",
    "version": 3
   },
   "file_extension": ".py",
   "mimetype": "text/x-python",
   "name": "python",
   "nbconvert_exporter": "python",
   "pygments_lexer": "ipython3",
   "version": "3.11.3"
  }
 },
 "nbformat": 4,
 "nbformat_minor": 2
}
